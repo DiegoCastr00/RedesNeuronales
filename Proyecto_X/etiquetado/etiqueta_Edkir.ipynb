{
 "cells": [
  {
   "cell_type": "code",
   "execution_count": null,
   "metadata": {},
   "outputs": [],
   "source": [
    "import cv2\n",
    "import numpy as np\n",
    "import matplotlib.pyplot as plt\n",
    "import os\n",
    "\n",
    "ruta_carpeta = \"../parche/persona\"\n",
    "carpeta_destino = \"../dataset/etiquetadas/persona\"\n",
    "imagenes = []\n",
    "\n",
    "for archivo in os.listdir(ruta_carpeta):\n",
    "    ruta_archivo = os.path.join(ruta_carpeta, archivo)\n",
    "    if os.path.isfile(ruta_archivo) and archivo.lower().endswith(('.jpg', '.jpeg', '.png')):\n",
    "        imagenes.append(ruta_archivo)\n",
    "\n",
    "etiquetas = []\n",
    "\n",
    "from IPython.display import display, clear_output\n",
    "\n",
    "for i, ruta_imagen in enumerate(imagenes):\n",
    "    imagen = cv2.imread(ruta_imagen)\n",
    "    imagen = cv2.cvtColor(imagen, cv2.COLOR_BGR2GRAY)\n",
    "    \n",
    "    plt.figure() \n",
    "    plt.imshow(imagen, cmap='gray')\n",
    "    plt.axis('off')\n",
    "    display(plt.gcf()) \n",
    "\n",
    "    etiqueta = input(\"Ingrese la etiqueta para esta imagen (o 'cancelar' para detener): \")\n",
    "    \n",
    "    if etiqueta.lower() == 'cancelar':\n",
    "        print(\"Proceso de etiquetado cancelado por el usuario.\")\n",
    "        break\n",
    "\n",
    "    etiquetas.append(etiqueta)\n",
    "\n",
    "    nombre_archivo_destino = 'persona' + str(i) + '_' + etiqueta + '.jpg'\n",
    "    ruta_archivo_destino = os.path.join(carpeta_destino, nombre_archivo_destino)\n",
    "    cv2.imwrite(ruta_archivo_destino, cv2.cvtColor(imagen, cv2.COLOR_GRAY2BGR)) \n",
    "\n",
    "    clear_output(wait=True)\n",
    "\n",
    "print(\"Etiquetas recogidas: \", etiquetas)"
   ]
  }
 ],
 "metadata": {
  "kernelspec": {
   "display_name": "Python 3",
   "language": "python",
   "name": "python3"
  },
  "language_info": {
   "codemirror_mode": {
    "name": "ipython",
    "version": 3
   },
   "file_extension": ".py",
   "mimetype": "text/x-python",
   "name": "python",
   "nbconvert_exporter": "python",
   "pygments_lexer": "ipython3",
   "version": "3.10.12"
  }
 },
 "nbformat": 4,
 "nbformat_minor": 2
}

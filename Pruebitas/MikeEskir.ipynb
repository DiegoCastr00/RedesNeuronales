{
 "cells": [
  {
   "cell_type": "code",
   "execution_count": 9,
   "metadata": {},
   "outputs": [
    {
     "name": "stdout",
     "output_type": "stream",
     "text": [
      "Ingrese el elemento del vector1: ( 1 o -1):\n",
      "Ingrese el elemento del vector2: ( 1 o -1):\n",
      "Ingrese el elemento del vector3: ( 1 o -1):\n"
     ]
    }
   ],
   "source": [
    "import numpy as np\n",
    "def create_custom_vectors():\n",
    "    while True:\n",
    "        num_vectors = int(input(\"No. de vectores: \"))\n",
    "        if 3 <= num_vectors <= 5:\n",
    "            break\n",
    "        else:\n",
    "            print(\"Solo se permiten valores entre 3 y 5.\")\n",
    "    size = int(input(\"Tamaño: \"))\n",
    "    \n",
    "    vectors = []\n",
    "    for i in range(num_vectors):\n",
    "        vector = []\n",
    "        print(f\"Ingrese el elemento del vector{i+1}: ( 1 o -1):\")\n",
    "        for j in range(size):\n",
    "            while True:\n",
    "                value = int(input(f\"Elemento {j+1}: \"))\n",
    "                if value in [-1, 1]:\n",
    "                    vector.append(value)\n",
    "                    break\n",
    "                else:\n",
    "                    print(\"Valor invalido\")\n",
    "        vectors.append(np.array(vector))\n",
    "    return vectors\n",
    "\n",
    "\n",
    "vectores_f = create_custom_vectors()\n",
    "\n"
   ]
  },
  {
   "cell_type": "code",
   "execution_count": 3,
   "metadata": {},
   "outputs": [],
   "source": [
    "transpuestas = []\n",
    "for i in range(len(vectores_f)):\n",
    "    transpuesta = vectores_f[i][:, np.newaxis]\n",
    "    transpuestas.append(transpuesta)\n",
    "\n",
    "# for i in range(len(transpuestas)):\n",
    "#     print(transpuestas[i])"
   ]
  },
  {
   "cell_type": "code",
   "execution_count": 4,
   "metadata": {},
   "outputs": [],
   "source": [
    "productos = []\n",
    "for i in range(len(transpuestas)):\n",
    "    producto = np.dot(transpuestas[i], vectores_f[i][np.newaxis, :])\n",
    "    productos.append(producto)\n",
    "\n",
    "# for j in range(len(productos)):\n",
    "#     print(productos[j])"
   ]
  },
  {
   "cell_type": "code",
   "execution_count": 5,
   "metadata": {},
   "outputs": [
    {
     "name": "stdout",
     "output_type": "stream",
     "text": [
      "[[ 3  1  1 -1]\n",
      " [ 1  3  3 -3]\n",
      " [ 1  3  3 -3]\n",
      " [-1 -3 -3  3]]\n"
     ]
    }
   ],
   "source": [
    "Pesos = sum(productos)\n",
    "\n",
    "print(Pesos)"
   ]
  },
  {
   "cell_type": "code",
   "execution_count": 6,
   "metadata": {},
   "outputs": [
    {
     "name": "stdout",
     "output_type": "stream",
     "text": [
      "[[ 0  1  1 -1]\n",
      " [ 1  0  3 -3]\n",
      " [ 1  3  0 -3]\n",
      " [-1 -3 -3  0]]\n"
     ]
    }
   ],
   "source": [
    "P_1 = np.copy(Pesos)\n",
    "np.fill_diagonal(P_1, 0)\n",
    "\n",
    "print(P_1)"
   ]
  },
  {
   "cell_type": "code",
   "execution_count": 122,
   "metadata": {},
   "outputs": [
    {
     "name": "stdout",
     "output_type": "stream",
     "text": [
      "[-1  1 -1]\n",
      "[-1  1 -1]\n"
     ]
    }
   ],
   "source": [
    "activadas = []\n",
    "\n",
    "def apply_activation(vector, weights):\n",
    "    result = np.dot(vector, weights)\n",
    "    activated_values = np.where(result > 0, 1, -1)\n",
    "    \n",
    "    return activated_values\n",
    "\n",
    "for i in range(len(vectores_f)):\n",
    "    activada = apply_activation(vectores_f[i], P_1)\n",
    "    activadas.append(activada)\n",
    "\n",
    "\n",
    "for i in range(len(activadas)):\n",
    "    print(activadas[i])"
   ]
  },
  {
   "cell_type": "code",
   "execution_count": 123,
   "metadata": {},
   "outputs": [],
   "source": [
    "def print_result(vector, weights, original):\n",
    "    print(\"Entrada:\\t\", vector)\n",
    "    print(\"Original:\\t\", original)\n",
    "    print(\"Resultado:\\t\", apply_activation(vector, weights), \"\\n\")"
   ]
  },
  {
   "cell_type": "code",
   "execution_count": 126,
   "metadata": {},
   "outputs": [],
   "source": [
    "def evaluation(ORIGINALES, PRUEBAS, P_1, CUENTA):  \n",
    "    \n",
    "    ORIGINAL = ORIGINALES[CUENTA]\n",
    "    PRUEBA = PRUEBAS[CUENTA]\n",
    "\n",
    "    iteraciones = 1\n",
    "\n",
    "    while (iteraciones < 16):\n",
    "        \n",
    "        # Imprimir iteracion\n",
    "        print(\"Iteracion: \", iteraciones,\"\\t|\\tCon X_\", CUENTA)\n",
    "\n",
    "        # Si es igual, imprime y termina\n",
    "        if np.array_equal(PRUEBA, ORIGINAL):\n",
    "            print(\"Fue igualito\")\n",
    "            print_result(PRUEBA, P_1, ORIGINAL)\n",
    "            break\n",
    "\n",
    "        # Si no es igual, sigue iterando\n",
    "        PRUEBA = apply_activation(PRUEBA, P_1)\n",
    "        print_result(PRUEBA, P_1, ORIGINAL)\n",
    "        \n",
    "        iteraciones += 1"
   ]
  },
  {
   "cell_type": "code",
   "execution_count": 127,
   "metadata": {},
   "outputs": [
    {
     "name": "stdout",
     "output_type": "stream",
     "text": [
      "Iteracion:  1 \t|\tCon X_ 0\n",
      "Fue igualito\n",
      "Entrada:\t [-1  1 -1]\n",
      "Original:\t [-1  1 -1]\n",
      "Resultado:\t [-1  1 -1] \n",
      "\n",
      "Iteracion:  1 \t|\tCon X_ 1\n",
      "Entrada:\t [-1  1 -1]\n",
      "Original:\t [-1  1  1]\n",
      "Resultado:\t [-1  1 -1] \n",
      "\n",
      "Iteracion:  2 \t|\tCon X_ 1\n",
      "Entrada:\t [-1  1 -1]\n",
      "Original:\t [-1  1  1]\n",
      "Resultado:\t [-1  1 -1] \n",
      "\n",
      "Iteracion:  3 \t|\tCon X_ 1\n",
      "Entrada:\t [-1  1 -1]\n",
      "Original:\t [-1  1  1]\n",
      "Resultado:\t [-1  1 -1] \n",
      "\n",
      "Iteracion:  4 \t|\tCon X_ 1\n",
      "Entrada:\t [-1  1 -1]\n",
      "Original:\t [-1  1  1]\n",
      "Resultado:\t [-1  1 -1] \n",
      "\n",
      "Iteracion:  5 \t|\tCon X_ 1\n",
      "Entrada:\t [-1  1 -1]\n",
      "Original:\t [-1  1  1]\n",
      "Resultado:\t [-1  1 -1] \n",
      "\n",
      "Iteracion:  6 \t|\tCon X_ 1\n",
      "Entrada:\t [-1  1 -1]\n",
      "Original:\t [-1  1  1]\n",
      "Resultado:\t [-1  1 -1] \n",
      "\n",
      "Iteracion:  7 \t|\tCon X_ 1\n",
      "Entrada:\t [-1  1 -1]\n",
      "Original:\t [-1  1  1]\n",
      "Resultado:\t [-1  1 -1] \n",
      "\n",
      "Iteracion:  8 \t|\tCon X_ 1\n",
      "Entrada:\t [-1  1 -1]\n",
      "Original:\t [-1  1  1]\n",
      "Resultado:\t [-1  1 -1] \n",
      "\n",
      "Iteracion:  9 \t|\tCon X_ 1\n",
      "Entrada:\t [-1  1 -1]\n",
      "Original:\t [-1  1  1]\n",
      "Resultado:\t [-1  1 -1] \n",
      "\n",
      "Iteracion:  10 \t|\tCon X_ 1\n",
      "Entrada:\t [-1  1 -1]\n",
      "Original:\t [-1  1  1]\n",
      "Resultado:\t [-1  1 -1] \n",
      "\n",
      "Iteracion:  11 \t|\tCon X_ 1\n",
      "Entrada:\t [-1  1 -1]\n",
      "Original:\t [-1  1  1]\n",
      "Resultado:\t [-1  1 -1] \n",
      "\n",
      "Iteracion:  12 \t|\tCon X_ 1\n",
      "Entrada:\t [-1  1 -1]\n",
      "Original:\t [-1  1  1]\n",
      "Resultado:\t [-1  1 -1] \n",
      "\n",
      "Iteracion:  13 \t|\tCon X_ 1\n",
      "Entrada:\t [-1  1 -1]\n",
      "Original:\t [-1  1  1]\n",
      "Resultado:\t [-1  1 -1] \n",
      "\n",
      "Iteracion:  14 \t|\tCon X_ 1\n",
      "Entrada:\t [-1  1 -1]\n",
      "Original:\t [-1  1  1]\n",
      "Resultado:\t [-1  1 -1] \n",
      "\n",
      "Iteracion:  15 \t|\tCon X_ 1\n",
      "Entrada:\t [-1  1 -1]\n",
      "Original:\t [-1  1  1]\n",
      "Resultado:\t [-1  1 -1] \n",
      "\n"
     ]
    }
   ],
   "source": [
    "for i in range(len(vectores_f)):\n",
    "    # evaluation(vectores_f, activadas, P_1, i)\n",
    "    # print(\"Iteracion: \", i)\n",
    "    # print(\"Original: \", vectores_f[i])\n",
    "    # print(\"Resultado: \", activadas[i])\n",
    "    # print(\"\\n\")\n",
    "    evaluation(vectores_f, activadas, P_1, i)\n"
   ]
  }
 ],
 "metadata": {
  "kernelspec": {
   "display_name": "Python 3",
   "language": "python",
   "name": "python3"
  },
  "language_info": {
   "codemirror_mode": {
    "name": "ipython",
    "version": 3
   },
   "file_extension": ".py",
   "mimetype": "text/x-python",
   "name": "python",
   "nbconvert_exporter": "python",
   "pygments_lexer": "ipython3",
   "version": "3.11.5"
  }
 },
 "nbformat": 4,
 "nbformat_minor": 2
}

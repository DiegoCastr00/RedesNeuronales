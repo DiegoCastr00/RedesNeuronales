{
 "cells": [
  {
   "cell_type": "code",
   "execution_count": 90,
   "metadata": {},
   "outputs": [
    {
     "name": "stdout",
     "output_type": "stream",
     "text": [
      "[-1 -1  1  1  1]\n",
      "[ 1  1 -1 -1  1]\n"
     ]
    }
   ],
   "source": [
    "import numpy as np\n",
    "\n",
    "\n",
    "def create_random_vector(size):\n",
    "    A = np.random.choice([-1, 1], size=size)\n",
    "    B = np.random.choice([-1, 1], size=size)\n",
    "    return A, B\n",
    "\n",
    "size = 5\n",
    "A, B = create_random_vector(size)\n",
    "\n",
    "print(A)\n",
    "print(B)"
   ]
  },
  {
   "cell_type": "code",
   "execution_count": 91,
   "metadata": {},
   "outputs": [],
   "source": [
    "At = A[:, np.newaxis]\n",
    "Bt = B[:, np.newaxis]\n",
    "\n",
    "resultA = np.dot(At, A[np.newaxis, :])\n",
    "resultB = np.dot(Bt, B[np.newaxis, :])"
   ]
  },
  {
   "cell_type": "code",
   "execution_count": 92,
   "metadata": {},
   "outputs": [
    {
     "name": "stdout",
     "output_type": "stream",
     "text": [
      "[[ 2  2 -2 -2  0]\n",
      " [ 2  2 -2 -2  0]\n",
      " [-2 -2  2  2  0]\n",
      " [-2 -2  2  2  0]\n",
      " [ 0  0  0  0  2]]\n"
     ]
    }
   ],
   "source": [
    "Pesos = resultA + resultB\n",
    "\n",
    "print(Pesos)"
   ]
  },
  {
   "cell_type": "code",
   "execution_count": 93,
   "metadata": {},
   "outputs": [
    {
     "name": "stdout",
     "output_type": "stream",
     "text": [
      "[[ 0  2 -2 -2  0]\n",
      " [ 2  0 -2 -2  0]\n",
      " [-2 -2  0  2  0]\n",
      " [-2 -2  2  0  0]\n",
      " [ 0  0  0  0  0]]\n"
     ]
    }
   ],
   "source": [
    "P_1 = np.copy(Pesos)\n",
    "np.fill_diagonal(P_1, 0)\n",
    "\n",
    "print(P_1)"
   ]
  },
  {
   "cell_type": "code",
   "execution_count": 94,
   "metadata": {},
   "outputs": [
    {
     "name": "stdout",
     "output_type": "stream",
     "text": [
      "[-6 -6  6  6  0]\n"
     ]
    }
   ],
   "source": [
    "result = np.dot(A, P_1)\n",
    "print(result)"
   ]
  },
  {
   "cell_type": "code",
   "execution_count": 95,
   "metadata": {},
   "outputs": [
    {
     "name": "stdout",
     "output_type": "stream",
     "text": [
      "[-1 -1  1  1 -1]\n"
     ]
    }
   ],
   "source": [
    "def apply_activation(vector, weights):\n",
    "    result = np.dot(vector, weights)\n",
    "    activated_values = np.where(result > 0, 1, -1)\n",
    "    return activated_values\n",
    "\n",
    "print(apply_activation(A, P_1))"
   ]
  },
  {
   "cell_type": "code",
   "execution_count": 96,
   "metadata": {},
   "outputs": [
    {
     "name": "stdout",
     "output_type": "stream",
     "text": [
      "No fue igual\n",
      "Entrada: [-1 -1  1  1 -1]\n",
      "Resultado: [-1 -1  1  1 -1]\n",
      "\n"
     ]
    }
   ],
   "source": [
    "def print_result(vector, weights):\n",
    "    print(\"Entrada:\", vector)\n",
    "    print(\"Resultado:\", apply_activation(vector, weights))\n",
    "    print()\n",
    "\n",
    "PRUEBA = apply_activation(A, P_1)\n",
    "\n",
    "if np.array_equal(PRUEBA, A):\n",
    "    print(\"Fue igualito\")\n",
    "    print_result(A, P_1)\n",
    "    print(\"Ahora el B\")\n",
    "    print_result(B, P_1)\n",
    "\n",
    "cuenta = 0\n",
    "if (not np.array_equal(PRUEBA, A) or cuenta == 15):\n",
    "        print(\"No fue igual\")\n",
    "        print_result(PRUEBA, P_1)\n",
    "        PRUEBA = apply_activation(PRUEBA, P_1)\n",
    "        cuenta += 1"
   ]
  }
 ],
 "metadata": {
  "kernelspec": {
   "display_name": "Python 3",
   "language": "python",
   "name": "python3"
  },
  "language_info": {
   "codemirror_mode": {
    "name": "ipython",
    "version": 3
   },
   "file_extension": ".py",
   "mimetype": "text/x-python",
   "name": "python",
   "nbconvert_exporter": "python",
   "pygments_lexer": "ipython3",
   "version": "3.11.1"
  }
 },
 "nbformat": 4,
 "nbformat_minor": 2
}

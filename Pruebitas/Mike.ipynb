{
 "cells": [
  {
   "cell_type": "code",
   "execution_count": 1096,
   "metadata": {},
   "outputs": [
    {
     "name": "stdout",
     "output_type": "stream",
     "text": [
      "[-1  1 -1  1 -1]\n",
      "[-1  1 -1  1  1]\n"
     ]
    }
   ],
   "source": [
    "import numpy as np\n",
    "\n",
    "\n",
    "def create_random_vector(size):\n",
    "    A = np.random.choice([-1, 1], size=size)\n",
    "    B = np.random.choice([-1, 1], size=size)\n",
    "    return A, B\n",
    "\n",
    "size = 5\n",
    "A, B = create_random_vector(size)\n",
    "\n",
    "print(A)\n",
    "print(B)"
   ]
  },
  {
   "cell_type": "code",
   "execution_count": 1097,
   "metadata": {},
   "outputs": [],
   "source": [
    "At = A[:, np.newaxis]\n",
    "Bt = B[:, np.newaxis]\n",
    "\n",
    "resultA = np.dot(At, A[np.newaxis, :])\n",
    "resultB = np.dot(Bt, B[np.newaxis, :])"
   ]
  },
  {
   "cell_type": "code",
   "execution_count": 1098,
   "metadata": {},
   "outputs": [
    {
     "name": "stdout",
     "output_type": "stream",
     "text": [
      "[[ 2 -2  2 -2  0]\n",
      " [-2  2 -2  2  0]\n",
      " [ 2 -2  2 -2  0]\n",
      " [-2  2 -2  2  0]\n",
      " [ 0  0  0  0  2]]\n"
     ]
    }
   ],
   "source": [
    "Pesos = resultA + resultB\n",
    "\n",
    "print(Pesos)"
   ]
  },
  {
   "cell_type": "code",
   "execution_count": 1099,
   "metadata": {},
   "outputs": [
    {
     "name": "stdout",
     "output_type": "stream",
     "text": [
      "[[ 0 -2  2 -2  0]\n",
      " [-2  0 -2  2  0]\n",
      " [ 2 -2  0 -2  0]\n",
      " [-2  2 -2  0  0]\n",
      " [ 0  0  0  0  0]]\n"
     ]
    }
   ],
   "source": [
    "P_1 = np.copy(Pesos)\n",
    "np.fill_diagonal(P_1, 0)\n",
    "\n",
    "print(P_1)"
   ]
  },
  {
   "cell_type": "code",
   "execution_count": 1100,
   "metadata": {},
   "outputs": [
    {
     "name": "stdout",
     "output_type": "stream",
     "text": [
      "[-6  6 -6  6  0]\n"
     ]
    }
   ],
   "source": [
    "result = np.dot(A, P_1)\n",
    "print(result)"
   ]
  },
  {
   "cell_type": "code",
   "execution_count": 1112,
   "metadata": {},
   "outputs": [
    {
     "name": "stdout",
     "output_type": "stream",
     "text": [
      "[-1  1 -1  1  1]\n"
     ]
    }
   ],
   "source": [
    "def apply_activation(vector, weights):\n",
    "    # print(\"Entradita chida:\\t\\t\", vector)\n",
    "    result = np.dot(vector, weights)\n",
    "    # print(\"Resultado de la multiplicacion:\\t\", result)\n",
    "    activated_values = np.where(result >= 0, 1, -1)\n",
    "    return activated_values\n",
    "\n",
    "print(apply_activation(A, P_1))"
   ]
  },
  {
   "cell_type": "code",
   "execution_count": 1102,
   "metadata": {},
   "outputs": [],
   "source": [
    "def print_result(vector, weights, original):\n",
    "    print(\"Entrada:\\t\", vector)\n",
    "    print(\"Original:\\t\", original)\n",
    "    print(\"Resultado:\\t\", apply_activation(vector, weights), \"\\n\")\n",
    "\n",
    "# def evaluation(ORIGINAL, PRUEBA, P_1):  \n",
    "    \n",
    "#     cuenta = 1\n",
    "\n",
    "#     while (cuenta < 16):\n",
    "        \n",
    "#         # Imprimir iteracion\n",
    "#         print(\"Iteracion: \", cuenta)\n",
    "\n",
    "#         # Si es igual, imprime y termina\n",
    "#         if np.array_equal(PRUEBA, ORIGINAL):\n",
    "#             print(\"Fue igualito\")\n",
    "#             print_result(PRUEBA, P_1, ORIGINAL)\n",
    "#             break\n",
    "\n",
    "#         # Si no es igual, sigue iterando\n",
    "#         PRUEBA = apply_activation(PRUEBA, P_1)\n",
    "#         print_result(PRUEBA, P_1, ORIGINAL)\n",
    "\n",
    "\n",
    "#         # print_result(ORIGINAL, P_1)\n",
    "        \n",
    "#         cuenta += 1\n",
    "\n",
    "# evaluation(A, apply_activation(A,P_1), P_1)"
   ]
  },
  {
   "cell_type": "code",
   "execution_count": 1103,
   "metadata": {},
   "outputs": [
    {
     "name": "stdout",
     "output_type": "stream",
     "text": [
      "Pruebita inicial:\t [-1  1 -1  1  1]\n",
      "Original:\t\t [-1  1 -1  1 -1] \n",
      "\n",
      "Iteracion:  0\n",
      "Entrada:\t [-1  1 -1  1  1]\n",
      "Original:\t [-1  1 -1  1 -1]\n",
      "Resultado:\t [-1  1 -1  1  1] \n",
      "\n",
      "Iteracion:  1\n",
      "Entrada:\t [-1  1 -1  1  1]\n",
      "Original:\t [-1  1 -1  1 -1]\n",
      "Resultado:\t [-1  1 -1  1  1] \n",
      "\n",
      "Iteracion:  2\n",
      "Entrada:\t [-1  1 -1  1  1]\n",
      "Original:\t [-1  1 -1  1 -1]\n",
      "Resultado:\t [-1  1 -1  1  1] \n",
      "\n",
      "Iteracion:  3\n",
      "Entrada:\t [-1  1 -1  1  1]\n",
      "Original:\t [-1  1 -1  1 -1]\n",
      "Resultado:\t [-1  1 -1  1  1] \n",
      "\n",
      "Iteracion:  4\n",
      "Entrada:\t [-1  1 -1  1  1]\n",
      "Original:\t [-1  1 -1  1 -1]\n",
      "Resultado:\t [-1  1 -1  1  1] \n",
      "\n",
      "Iteracion:  5\n",
      "Entrada:\t [-1  1 -1  1  1]\n",
      "Original:\t [-1  1 -1  1 -1]\n",
      "Resultado:\t [-1  1 -1  1  1] \n",
      "\n",
      "Iteracion:  6\n",
      "Entrada:\t [-1  1 -1  1  1]\n",
      "Original:\t [-1  1 -1  1 -1]\n",
      "Resultado:\t [-1  1 -1  1  1] \n",
      "\n",
      "Iteracion:  7\n",
      "Entrada:\t [-1  1 -1  1  1]\n",
      "Original:\t [-1  1 -1  1 -1]\n",
      "Resultado:\t [-1  1 -1  1  1] \n",
      "\n",
      "Iteracion:  8\n",
      "Entrada:\t [-1  1 -1  1  1]\n",
      "Original:\t [-1  1 -1  1 -1]\n",
      "Resultado:\t [-1  1 -1  1  1] \n",
      "\n",
      "Iteracion:  9\n",
      "Entrada:\t [-1  1 -1  1  1]\n",
      "Original:\t [-1  1 -1  1 -1]\n",
      "Resultado:\t [-1  1 -1  1  1] \n",
      "\n",
      "Iteracion:  10\n",
      "Entrada:\t [-1  1 -1  1  1]\n",
      "Original:\t [-1  1 -1  1 -1]\n",
      "Resultado:\t [-1  1 -1  1  1] \n",
      "\n",
      "Iteracion:  11\n",
      "Entrada:\t [-1  1 -1  1  1]\n",
      "Original:\t [-1  1 -1  1 -1]\n",
      "Resultado:\t [-1  1 -1  1  1] \n",
      "\n",
      "Iteracion:  12\n",
      "Entrada:\t [-1  1 -1  1  1]\n",
      "Original:\t [-1  1 -1  1 -1]\n",
      "Resultado:\t [-1  1 -1  1  1] \n",
      "\n",
      "Iteracion:  13\n",
      "Entrada:\t [-1  1 -1  1  1]\n",
      "Original:\t [-1  1 -1  1 -1]\n",
      "Resultado:\t [-1  1 -1  1  1] \n",
      "\n",
      "Iteracion:  14\n",
      "Entrada:\t [-1  1 -1  1  1]\n",
      "Original:\t [-1  1 -1  1 -1]\n",
      "Resultado:\t [-1  1 -1  1  1] \n",
      "\n"
     ]
    }
   ],
   "source": [
    "cuentaa = 0\n",
    "\n",
    "Pruebita = apply_activation(A, P_1)\n",
    "\n",
    "print(\"Pruebita inicial:\\t\", Pruebita)\n",
    "print(\"Original:\\t\\t\", A, \"\\n\")\n",
    "\n",
    "while (cuentaa < 15):\n",
    "\n",
    "    print(\"Iteracion: \", cuentaa)\n",
    "\n",
    "    if np.array_equal(Pruebita, A):\n",
    "        print(\"Fue igualito\")\n",
    "        print_result(Pruebita, P_1, A)\n",
    "        break\n",
    "\n",
    "    print(\"No fue igual\")\n",
    "    Pruebita = apply_activation(Pruebita, P_1)\n",
    "    print_result(Pruebita, P_1, A)\n",
    "    cuentaa += 1"
   ]
  },
  {
   "cell_type": "code",
   "execution_count": 1117,
   "metadata": {},
   "outputs": [
    {
     "name": "stdout",
     "output_type": "stream",
     "text": [
      "Pesos:\n",
      " [[ 0 -2  2 -2  0]\n",
      " [-2  0 -2  2  0]\n",
      " [ 2 -2  0 -2  0]\n",
      " [-2  2 -2  0  0]\n",
      " [ 0  0  0  0  0]] \n",
      "\n",
      "Resultado de multiplicar X1 con P_1:\n",
      " [-1  1 -1  1  1]\n",
      "Resultado de multiplicar R_1 con P_1:\n",
      " [-1  1 -1  1  1]\n"
     ]
    }
   ],
   "source": [
    "import numpy as np\n",
    "\n",
    "print(\"Pesos:\\n\", P_1, \"\\n\")\n",
    "\n",
    "result = apply_activation(A, P_1)\n",
    "print(\"Resultado de multiplicar X1 con P_1:\\n\", result)\n",
    "\n",
    "result2 = apply_activation( apply_activation(A,P_1) , P_1)\n",
    "print(\"Resultado de multiplicar R_1 con P_1:\\n\", result2)"
   ]
  }
 ],
 "metadata": {
  "kernelspec": {
   "display_name": "Python 3",
   "language": "python",
   "name": "python3"
  },
  "language_info": {
   "codemirror_mode": {
    "name": "ipython",
    "version": 3
   },
   "file_extension": ".py",
   "mimetype": "text/x-python",
   "name": "python",
   "nbconvert_exporter": "python",
   "pygments_lexer": "ipython3",
   "version": "3.11.1"
  }
 },
 "nbformat": 4,
 "nbformat_minor": 2
}

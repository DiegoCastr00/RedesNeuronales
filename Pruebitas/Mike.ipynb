{
 "cells": [
  {
   "cell_type": "code",
   "execution_count": 48,
   "metadata": {},
   "outputs": [
    {
     "name": "stdout",
     "output_type": "stream",
     "text": [
      "[-1 -1 -1  1  1  1 -1  1  1  1]\n",
      "[-1 -1 -1  1 -1  1 -1 -1  1  1]\n"
     ]
    }
   ],
   "source": [
    "import numpy as np\n",
    "\n",
    "\n",
    "def create_random_vector(size, vectors):\n",
    "    \n",
    "    vectores_f = []\n",
    "\n",
    "    for i in range(vectors):\n",
    "        vectores = np.random.choice([-1, 1], size=size)\n",
    "        vectores_f.append(vectores)\n",
    "    \n",
    "    return vectores_f\n",
    "\n",
    "size = 10\n",
    "vectors = 2\n",
    "\n",
    "vectores_f = create_random_vector(size, vectors)\n",
    "\n",
    "for i in range(len(vectores_f)):\n",
    "    print(vectores_f[i])"
   ]
  },
  {
   "cell_type": "code",
   "execution_count": 49,
   "metadata": {},
   "outputs": [],
   "source": [
    "transpuestas = []\n",
    "for i in range(len(vectores_f)):\n",
    "    transpuesta = vectores_f[i][:, np.newaxis]\n",
    "    transpuestas.append(transpuesta)\n",
    "\n",
    "# for i in range(len(transpuestas)):\n",
    "#     print(transpuestas[i])"
   ]
  },
  {
   "cell_type": "code",
   "execution_count": 50,
   "metadata": {},
   "outputs": [],
   "source": [
    "productos = []\n",
    "for i in range(len(transpuestas)):\n",
    "    producto = np.dot(transpuestas[i], vectores_f[i][np.newaxis, :])\n",
    "    productos.append(producto)\n",
    "\n",
    "# for j in range(len(productos)):\n",
    "#     print(productos[j])"
   ]
  },
  {
   "cell_type": "code",
   "execution_count": 51,
   "metadata": {},
   "outputs": [
    {
     "name": "stdout",
     "output_type": "stream",
     "text": [
      "[[ 2  2  2 -2  0 -2  2  0 -2 -2]\n",
      " [ 2  2  2 -2  0 -2  2  0 -2 -2]\n",
      " [ 2  2  2 -2  0 -2  2  0 -2 -2]\n",
      " [-2 -2 -2  2  0  2 -2  0  2  2]\n",
      " [ 0  0  0  0  2  0  0  2  0  0]\n",
      " [-2 -2 -2  2  0  2 -2  0  2  2]\n",
      " [ 2  2  2 -2  0 -2  2  0 -2 -2]\n",
      " [ 0  0  0  0  2  0  0  2  0  0]\n",
      " [-2 -2 -2  2  0  2 -2  0  2  2]\n",
      " [-2 -2 -2  2  0  2 -2  0  2  2]]\n"
     ]
    }
   ],
   "source": [
    "Pesos = sum(productos)\n",
    "\n",
    "print(Pesos)"
   ]
  },
  {
   "cell_type": "code",
   "execution_count": 52,
   "metadata": {},
   "outputs": [
    {
     "name": "stdout",
     "output_type": "stream",
     "text": [
      "[[ 0  2  2 -2  0 -2  2  0 -2 -2]\n",
      " [ 2  0  2 -2  0 -2  2  0 -2 -2]\n",
      " [ 2  2  0 -2  0 -2  2  0 -2 -2]\n",
      " [-2 -2 -2  0  0  2 -2  0  2  2]\n",
      " [ 0  0  0  0  0  0  0  2  0  0]\n",
      " [-2 -2 -2  2  0  0 -2  0  2  2]\n",
      " [ 2  2  2 -2  0 -2  0  0 -2 -2]\n",
      " [ 0  0  0  0  2  0  0  0  0  0]\n",
      " [-2 -2 -2  2  0  2 -2  0  0  2]\n",
      " [-2 -2 -2  2  0  2 -2  0  2  0]]\n"
     ]
    }
   ],
   "source": [
    "P_1 = np.copy(Pesos)\n",
    "np.fill_diagonal(P_1, 0)\n",
    "\n",
    "print(P_1)"
   ]
  },
  {
   "cell_type": "code",
   "execution_count": 53,
   "metadata": {},
   "outputs": [
    {
     "name": "stdout",
     "output_type": "stream",
     "text": [
      "[-1 -1 -1  1  1  1 -1  1  1  1]\n",
      "[-1 -1 -1  1 -1  1 -1 -1  1  1]\n"
     ]
    }
   ],
   "source": [
    "activadas = []\n",
    "\n",
    "def apply_activation(vector, weights):\n",
    "    result = np.dot(vector, weights)\n",
    "    activated_values = np.where(result > 0, 1, -1)\n",
    "    \n",
    "    return activated_values\n",
    "\n",
    "for i in range(len(vectores_f)):\n",
    "    activada = apply_activation(vectores_f[i], P_1)\n",
    "    activadas.append(activada)\n",
    "\n",
    "\n",
    "for i in range(len(activadas)):\n",
    "    print(activadas[i])"
   ]
  },
  {
   "cell_type": "code",
   "execution_count": 54,
   "metadata": {},
   "outputs": [],
   "source": [
    "def print_result(vector, weights, original):\n",
    "    print(\"Entrada:\\t\", vector)\n",
    "    print(\"Original:\\t\", original)\n",
    "    print(\"Resultado:\\t\", apply_activation(vector, weights), \"\\n\")"
   ]
  },
  {
   "cell_type": "code",
   "execution_count": 55,
   "metadata": {},
   "outputs": [],
   "source": [
    "def evaluation(ORIGINALES, PRUEBAS, P_1, CUENTA):  \n",
    "    \n",
    "    ORIGINAL = ORIGINALES[CUENTA]\n",
    "    PRUEBA = PRUEBAS[CUENTA]\n",
    "\n",
    "    iteraciones = 1\n",
    "\n",
    "    while (iteraciones < 16):\n",
    "        \n",
    "        # Imprimir iteracion\n",
    "        print(\"Iteracion: \", iteraciones,\"\\t|\\tCon X_\", CUENTA)\n",
    "\n",
    "        # Si es igual, imprime y termina\n",
    "        if np.array_equal(PRUEBA, ORIGINAL):\n",
    "            print(\"Fue igualito\")\n",
    "            print_result(PRUEBA, P_1, ORIGINAL)\n",
    "            break\n",
    "\n",
    "        # Si no es igual, sigue iterando\n",
    "        PRUEBA = apply_activation(PRUEBA, P_1)\n",
    "        print_result(PRUEBA, P_1, ORIGINAL)\n",
    "        \n",
    "        cuenta += 1"
   ]
  },
  {
   "cell_type": "code",
   "execution_count": 56,
   "metadata": {},
   "outputs": [
    {
     "name": "stdout",
     "output_type": "stream",
     "text": [
      "Iteracion:  1 \t|\tCon X_ 0\n",
      "Fue igualito\n",
      "Entrada:\t [-1 -1 -1  1  1  1 -1  1  1  1]\n",
      "Original:\t [-1 -1 -1  1  1  1 -1  1  1  1]\n",
      "Resultado:\t [-1 -1 -1  1  1  1 -1  1  1  1] \n",
      "\n",
      "Iteracion:  1 \t|\tCon X_ 1\n",
      "Fue igualito\n",
      "Entrada:\t [-1 -1 -1  1 -1  1 -1 -1  1  1]\n",
      "Original:\t [-1 -1 -1  1 -1  1 -1 -1  1  1]\n",
      "Resultado:\t [-1 -1 -1  1 -1  1 -1 -1  1  1] \n",
      "\n"
     ]
    }
   ],
   "source": [
    "for i in range(len(vectores_f)):\n",
    "    evaluation(vectores_f, activadas, P_1, i)"
   ]
  }
 ],
 "metadata": {
  "kernelspec": {
   "display_name": "Python 3",
   "language": "python",
   "name": "python3"
  },
  "language_info": {
   "codemirror_mode": {
    "name": "ipython",
    "version": 3
   },
   "file_extension": ".py",
   "mimetype": "text/x-python",
   "name": "python",
   "nbconvert_exporter": "python",
   "pygments_lexer": "ipython3",
   "version": "3.11.1"
  }
 },
 "nbformat": 4,
 "nbformat_minor": 2
}

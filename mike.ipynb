{
 "cells": [
  {
   "cell_type": "code",
   "execution_count": 1,
   "metadata": {},
   "outputs": [
    {
     "name": "stdout",
     "output_type": "stream",
     "text": [
      "(2560, 25)\n"
     ]
    }
   ],
   "source": [
    "import pandas as pd\n",
    "import numpy as np\n",
    "import matplotlib.pyplot as plt\n",
    "from sklearn.model_selection import train_test_split\n",
    "from sklearn.neural_network import MLPClassifier\n",
    "from sklearn.preprocessing import StandardScaler\n",
    "\n",
    "# Cargar los datos desde el archivo CSV\n",
    "data = pd.read_csv(\"Zernike.csv\")\n",
    "\n",
    "# Dividir los datos en características (features) y etiquetas (labels)\n",
    "X = data.drop(\"etiqueta\", axis=1)  # Características\n",
    "y = data[\"etiqueta\"]  # Etiquetas\n",
    "\n",
    "# Dividir los datos en conjuntos de entrenamiento y prueba\n",
    "X_train, X_test, y_train, y_test = train_test_split(X, y, test_size=0.2, random_state=42)\n",
    "\n",
    "# Escalar las características\n",
    "scaler = StandardScaler()\n",
    "X_train_scaled = scaler.fit_transform(X_train)\n",
    "X_test_scaled = scaler.transform(X_test)\n",
    "\n",
    "# print(X_train_scaled)\n",
    "print(X_train_scaled.shape)"
   ]
  },
  {
   "cell_type": "code",
   "execution_count": 2,
   "metadata": {},
   "outputs": [
    {
     "name": "stdout",
     "output_type": "stream",
     "text": [
      "Iteration 1, loss = 1.19416816\n",
      "Iteration 2, loss = 1.12698634\n",
      "Iteration 3, loss = 1.11557513\n",
      "Iteration 4, loss = 1.10996594\n",
      "Iteration 5, loss = 1.10386855\n",
      "Iteration 6, loss = 1.10071318\n",
      "Iteration 7, loss = 1.09524034\n",
      "Iteration 8, loss = 1.09299061\n",
      "Iteration 9, loss = 1.08922978\n",
      "Iteration 10, loss = 1.08434425\n",
      "Iteration 11, loss = 1.08148038\n",
      "Iteration 12, loss = 1.08001103\n",
      "Iteration 13, loss = 1.07813068\n",
      "Iteration 14, loss = 1.06874057\n",
      "Iteration 15, loss = 1.06443939\n",
      "Iteration 16, loss = 1.06229411\n",
      "Iteration 17, loss = 1.06002000\n",
      "Iteration 18, loss = 1.05935725\n",
      "Iteration 19, loss = 1.05932272\n",
      "Iteration 20, loss = 1.04900947\n",
      "Iteration 21, loss = 1.04631588\n",
      "Iteration 22, loss = 1.05198744\n",
      "Iteration 23, loss = 1.04820830\n",
      "Iteration 24, loss = 1.04299913\n",
      "Iteration 25, loss = 1.04150603\n",
      "Iteration 26, loss = 1.03553156\n",
      "Iteration 27, loss = 1.03630985\n",
      "Iteration 28, loss = 1.03008372\n",
      "Iteration 29, loss = 1.02980923\n",
      "Iteration 30, loss = 1.02775385\n",
      "Iteration 31, loss = 1.02734612\n",
      "Iteration 32, loss = 1.03827659\n",
      "Iteration 33, loss = 1.02953913\n",
      "Iteration 34, loss = 1.02120024\n",
      "Iteration 35, loss = 1.02371611\n",
      "Iteration 36, loss = 1.01903214\n",
      "Iteration 37, loss = 1.01770392\n",
      "Iteration 38, loss = 1.02302444\n",
      "Iteration 39, loss = 1.01440941\n",
      "Iteration 40, loss = 1.01173409\n",
      "Iteration 41, loss = 1.00795565\n",
      "Iteration 42, loss = 1.00433745\n",
      "Iteration 43, loss = 1.00601933\n",
      "Iteration 44, loss = 1.00660759\n",
      "Iteration 45, loss = 1.00631122\n",
      "Iteration 46, loss = 1.00670045\n",
      "Iteration 47, loss = 1.00327029\n",
      "Iteration 48, loss = 1.01938959\n",
      "Iteration 49, loss = 1.01012216\n",
      "Iteration 50, loss = 1.00071175\n",
      "Iteration 51, loss = 1.01156339\n",
      "Iteration 52, loss = 1.00172230\n",
      "Iteration 53, loss = 0.99464751\n",
      "Iteration 54, loss = 0.99194198\n",
      "Iteration 55, loss = 0.98829600\n",
      "Iteration 56, loss = 0.98806541\n",
      "Iteration 57, loss = 0.98555915\n",
      "Iteration 58, loss = 0.98562134\n",
      "Iteration 59, loss = 0.98434560\n",
      "Iteration 60, loss = 0.99484591\n",
      "Iteration 61, loss = 0.99200217\n",
      "Iteration 62, loss = 0.99093276\n",
      "Iteration 63, loss = 0.98717209\n",
      "Iteration 64, loss = 0.98130324\n",
      "Iteration 65, loss = 0.98499424\n",
      "Iteration 66, loss = 0.98363334\n",
      "Iteration 67, loss = 0.98044691\n",
      "Iteration 68, loss = 0.97819965\n",
      "Iteration 69, loss = 0.98295288\n",
      "Iteration 70, loss = 0.97725737\n",
      "Iteration 71, loss = 0.97859716\n",
      "Iteration 72, loss = 0.97717451\n",
      "Iteration 73, loss = 0.98002419\n",
      "Iteration 74, loss = 0.97288158\n",
      "Iteration 75, loss = 0.97751647\n",
      "Iteration 76, loss = 0.97425399\n",
      "Iteration 77, loss = 0.97329993\n",
      "Iteration 78, loss = 0.97509320\n",
      "Iteration 79, loss = 0.97372168\n",
      "Iteration 80, loss = 0.97865445\n",
      "Iteration 81, loss = 0.97498971\n",
      "Iteration 82, loss = 0.97176755\n",
      "Iteration 83, loss = 0.96608727\n",
      "Iteration 84, loss = 0.96625453\n",
      "Iteration 85, loss = 0.96727041\n",
      "Iteration 86, loss = 0.97266668\n",
      "Iteration 87, loss = 0.98561103\n",
      "Iteration 88, loss = 0.98401898\n",
      "Iteration 89, loss = 0.98189859\n",
      "Iteration 90, loss = 0.97186331\n",
      "Iteration 91, loss = 0.97375961\n",
      "Iteration 92, loss = 0.96778086\n",
      "Iteration 93, loss = 0.97167934\n",
      "Iteration 94, loss = 0.97116741\n",
      "Training loss did not improve more than tol=0.000001 for 10 consecutive epochs. Stopping.\n"
     ]
    }
   ],
   "source": [
    "learning_rate = 0.1  # Tasa de aprendizaje\n",
    "momentum = 0.7  # Momentum\n",
    "hidden_layers = (10, 4)  # Número de capas ocultas y número de neuronas en cada capa\n",
    "activation_function = 'logistic'  # Función de activación (sigmoide)\n",
    "tolerance = 0.000001 # Parámetro de tolerancia\n",
    "\n",
    "# Crear el clasificador MLP\n",
    "mlp_classifier = MLPClassifier(hidden_layer_sizes=hidden_layers,\n",
    "                               activation=activation_function,\n",
    "                               learning_rate_init=learning_rate,\n",
    "                               momentum=momentum,\n",
    "                               max_iter=1000,\n",
    "                               tol=tolerance,\n",
    "                               random_state=42,\n",
    "                               verbose=True)\n",
    "\n",
    "# validation_fraction=0.1,\n",
    "\n",
    "# Entrenar el clasificador\n",
    "history = mlp_classifier.fit(X_train_scaled, y_train)"
   ]
  },
  {
   "cell_type": "code",
   "execution_count": 3,
   "metadata": {},
   "outputs": [
    {
     "name": "stdout",
     "output_type": "stream",
     "text": [
      "Precisión en el conjunto de entrenamiento: 0.578515625\n",
      "Precisión en el conjunto de prueba: 0.4625\n"
     ]
    }
   ],
   "source": [
    "# Evaluar el modelo\n",
    "train_accuracy = mlp_classifier.score(X_train_scaled, y_train)\n",
    "test_accuracy = mlp_classifier.score(X_test_scaled, y_test)\n",
    "\n",
    "print(f\"Precisión en el conjunto de entrenamiento: {train_accuracy}\")\n",
    "print(f\"Precisión en el conjunto de prueba: {test_accuracy}\")"
   ]
  },
  {
   "cell_type": "code",
   "execution_count": 4,
   "metadata": {},
   "outputs": [
    {
     "name": "stdout",
     "output_type": "stream",
     "text": [
      "None\n"
     ]
    }
   ],
   "source": [
    "# Obtener las métricas de precisión durante el entrenamiento\n",
    "train_accuracy_history = mlp_classifier.validation_scores_\n",
    "# test_accuracy_history = [mlp_classifier.score(X_test_scaled, y_test)] * len(train_accuracy_history)\n",
    "\n",
    "print(train_accuracy_history)"
   ]
  },
  {
   "cell_type": "code",
   "execution_count": 5,
   "metadata": {},
   "outputs": [
    {
     "ename": "TypeError",
     "evalue": "object of type 'NoneType' has no len()",
     "output_type": "error",
     "traceback": [
      "\u001b[1;31m---------------------------------------------------------------------------\u001b[0m",
      "\u001b[1;31mTypeError\u001b[0m                                 Traceback (most recent call last)",
      "Cell \u001b[1;32mIn[5], line 3\u001b[0m\n\u001b[0;32m      1\u001b[0m \u001b[38;5;66;03m# Graficar la precisión del modelo durante el entrenamiento y la prueba\u001b[39;00m\n\u001b[0;32m      2\u001b[0m plt\u001b[38;5;241m.\u001b[39mfigure(figsize\u001b[38;5;241m=\u001b[39m(\u001b[38;5;241m10\u001b[39m, \u001b[38;5;241m6\u001b[39m))\n\u001b[1;32m----> 3\u001b[0m plt\u001b[38;5;241m.\u001b[39mplot(np\u001b[38;5;241m.\u001b[39marange(\u001b[38;5;241m1\u001b[39m, \u001b[38;5;28;43mlen\u001b[39;49m\u001b[43m(\u001b[49m\u001b[43mtrain_accuracy_history\u001b[49m\u001b[43m)\u001b[49m \u001b[38;5;241m+\u001b[39m \u001b[38;5;241m1\u001b[39m), train_accuracy_history, label\u001b[38;5;241m=\u001b[39m\u001b[38;5;124m'\u001b[39m\u001b[38;5;124mTrain Accuracy\u001b[39m\u001b[38;5;124m'\u001b[39m)\n\u001b[0;32m      4\u001b[0m plt\u001b[38;5;241m.\u001b[39mplot(np\u001b[38;5;241m.\u001b[39marange(\u001b[38;5;241m1\u001b[39m, \u001b[38;5;28mlen\u001b[39m(train_accuracy_history) \u001b[38;5;241m+\u001b[39m \u001b[38;5;241m1\u001b[39m), test_accuracy_history, label\u001b[38;5;241m=\u001b[39m\u001b[38;5;124m'\u001b[39m\u001b[38;5;124mTest Accuracy\u001b[39m\u001b[38;5;124m'\u001b[39m)\n\u001b[0;32m      5\u001b[0m plt\u001b[38;5;241m.\u001b[39mtitle(\u001b[38;5;124m'\u001b[39m\u001b[38;5;124mAccuracy vs Iterations\u001b[39m\u001b[38;5;124m'\u001b[39m)\n",
      "\u001b[1;31mTypeError\u001b[0m: object of type 'NoneType' has no len()"
     ]
    },
    {
     "data": {
      "text/plain": [
       "<Figure size 1000x600 with 0 Axes>"
      ]
     },
     "metadata": {},
     "output_type": "display_data"
    }
   ],
   "source": [
    "# Graficar la precisión del modelo durante el entrenamiento y la prueba\n",
    "plt.figure(figsize=(10, 6))\n",
    "plt.plot(np.arange(1, len(train_accuracy_history) + 1), train_accuracy_history, label='Train Accuracy')\n",
    "plt.plot(np.arange(1, len(train_accuracy_history) + 1), test_accuracy_history, label='Test Accuracy')\n",
    "plt.title('Accuracy vs Iterations')\n",
    "plt.xlabel('Iterations')\n",
    "plt.ylabel('Accuracy')\n",
    "plt.legend()\n",
    "plt.grid(True)\n",
    "plt.show()"
   ]
  }
 ],
 "metadata": {
  "kernelspec": {
   "display_name": "Python 3",
   "language": "python",
   "name": "python3"
  },
  "language_info": {
   "codemirror_mode": {
    "name": "ipython",
    "version": 3
   },
   "file_extension": ".py",
   "mimetype": "text/x-python",
   "name": "python",
   "nbconvert_exporter": "python",
   "pygments_lexer": "ipython3",
   "version": "3.11.1"
  }
 },
 "nbformat": 4,
 "nbformat_minor": 2
}

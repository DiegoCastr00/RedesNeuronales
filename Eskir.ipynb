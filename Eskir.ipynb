{
 "cells": [
  {
   "cell_type": "code",
   "execution_count": 1,
   "metadata": {},
   "outputs": [
    {
     "name": "stdout",
     "output_type": "stream",
     "text": [
      "Ingrese los elementos del vector 1 (solo se permiten valores de 1 o -1):\n",
      "Ingrese los elementos del vector 2 (solo se permiten valores de 1 o -1):\n",
      "Ingrese los elementos del vector 3 (solo se permiten valores de 1 o -1):\n"
     ]
    }
   ],
   "source": [
    "import numpy as np\n",
    "def create_custom_vectors():\n",
    "    while True:\n",
    "        num_vectors = int(input(\"Ingrese el número de vectores (entre 3 y 5): \"))\n",
    "        if 3 <= num_vectors <= 5:\n",
    "            break\n",
    "        else:\n",
    "            print(\"Número no válido. Solo se permiten valores entre 3 y 5.\")\n",
    "    size = int(input(\"Ingrese el tamaño de los vectores: \"))\n",
    "    \n",
    "    vectors = []\n",
    "    for i in range(num_vectors):\n",
    "        vector = []\n",
    "        print(f\"Ingrese los elementos del vector {i+1} (solo se permiten valores de 1 o -1):\")\n",
    "        for j in range(size):\n",
    "            while True:\n",
    "                value = int(input(f\"Elemento {j+1}: \"))\n",
    "                if value in [-1, 1]:\n",
    "                    vector.append(value)\n",
    "                    break\n",
    "                else:\n",
    "                    print(\"Valor no válido. Solo se permiten valores de 1 o -1.\")\n",
    "        vectors.append(np.array(vector))\n",
    "    return vectors\n",
    "\n",
    "# Genera los vectores personalizados\n",
    "vectors = create_custom_vectors()\n",
    "\n"
   ]
  },
  {
   "cell_type": "code",
   "execution_count": 3,
   "metadata": {},
   "outputs": [
    {
     "name": "stdout",
     "output_type": "stream",
     "text": [
      "Vectores generados:  [ 1  1 -1]\n"
     ]
    }
   ],
   "source": []
  },
  {
   "cell_type": "code",
   "execution_count": 16,
   "metadata": {},
   "outputs": [],
   "source": [
    "\n",
    "# Realiza la operación de producto punto en los vectores generados\n",
    "results = []\n",
    "for vector in vectors:\n",
    "    At = vector[:, np.newaxis]\n",
    "    result = np.dot(At, vector[np.newaxis, :])\n",
    "    results.append(result)\n",
    "\n"
   ]
  },
  {
   "cell_type": "code",
   "execution_count": 17,
   "metadata": {},
   "outputs": [
    {
     "name": "stdout",
     "output_type": "stream",
     "text": [
      "Vector 1: [1 1 1 1]\n",
      "Vector 2: [ 1 -1 -1 -1]\n",
      "Vector 3: [ 1  1 -1 -1]\n",
      "Resultado 1:\n",
      "[[1 1 1 1]\n",
      " [1 1 1 1]\n",
      " [1 1 1 1]\n",
      " [1 1 1 1]]\n",
      "Resultado 2:\n",
      "[[ 1 -1 -1 -1]\n",
      " [-1  1  1  1]\n",
      " [-1  1  1  1]\n",
      " [-1  1  1  1]]\n",
      "Resultado 3:\n",
      "[[ 1  1 -1 -1]\n",
      " [ 1  1 -1 -1]\n",
      " [-1 -1  1  1]\n",
      " [-1 -1  1  1]]\n",
      "Suma de los resultados (Pesos):\n",
      "[[ 3  1 -1 -1]\n",
      " [ 1  3  1  1]\n",
      " [-1  1  3  3]\n",
      " [-1  1  3  3]]\n"
     ]
    }
   ],
   "source": [
    "# Suma los resultados de los productos punto\n",
    "Pesos = np.sum(results, axis=0)\n",
    "\n",
    "# Imprime los vectores generados y los resultados de las operaciones\n",
    "for i, vector in enumerate(vectors):\n",
    "    print(f\"Vector {i+1}: {vector}\")\n",
    "\n",
    "for i, result in enumerate(results):\n",
    "    print(f\"Resultado {i+1}:\\n{result}\")\n",
    "\n",
    "# Imprime la suma de los resultados\n",
    "print(f\"Suma de los resultados (Pesos):\\n{Pesos}\")"
   ]
  },
  {
   "cell_type": "code",
   "execution_count": 18,
   "metadata": {},
   "outputs": [
    {
     "name": "stdout",
     "output_type": "stream",
     "text": [
      "Pesos con la diagonal en ceros (P_1):\n",
      "[[ 0  1 -1 -1]\n",
      " [ 1  0  1  1]\n",
      " [-1  1  0  3]\n",
      " [-1  1  3  0]]\n"
     ]
    }
   ],
   "source": [
    "\n",
    "# Copia la matriz Pesos y establece la diagonal en ceros\n",
    "P_1 = np.copy(Pesos)\n",
    "np.fill_diagonal(P_1, 0)\n",
    "\n",
    "# Imprime la matriz con la diagonal en ceros\n",
    "print(f\"Pesos con la diagonal en ceros (P_1):\\n{P_1}\")"
   ]
  },
  {
   "cell_type": "code",
   "execution_count": null,
   "metadata": {},
   "outputs": [],
   "source": []
  },
  {
   "cell_type": "code",
   "execution_count": null,
   "metadata": {},
   "outputs": [],
   "source": []
  },
  {
   "cell_type": "code",
   "execution_count": null,
   "metadata": {},
   "outputs": [],
   "source": []
  },
  {
   "cell_type": "code",
   "execution_count": null,
   "metadata": {},
   "outputs": [],
   "source": []
  },
  {
   "cell_type": "code",
   "execution_count": null,
   "metadata": {},
   "outputs": [],
   "source": []
  },
  {
   "cell_type": "code",
   "execution_count": null,
   "metadata": {},
   "outputs": [],
   "source": [
    "import numpy as np\n",
    "\n",
    "def create_custom_vectors():\n",
    "    while True:\n",
    "        num_vectors = int(input(\"Ingrese el número de vectores (entre 3 y 5): \"))\n",
    "        if 3 <= num_vectors <= 5:\n",
    "            break\n",
    "        else:\n",
    "            print(\"Número no válido. Solo se permiten valores entre 3 y 5.\")\n",
    "    \n",
    "    size = int(input(\"Ingrese el tamaño de los vectores: \"))\n",
    "    \n",
    "    vectors = []\n",
    "    for i in range(num_vectors):\n",
    "        vector = []\n",
    "        print(f\"Ingrese los elementos del vector {i+1} (solo se permiten valores de 1 o -1):\")\n",
    "        for j in range(size):\n",
    "            while True:\n",
    "                value = int(input(f\"Elemento {j+1}: \"))\n",
    "                if value in [-1, 1]:\n",
    "                    vector.append(value)\n",
    "                    break\n",
    "                else:\n",
    "                    print(\"Valor no válido. Solo se permiten valores de 1 o -1.\")\n",
    "        vectors.append(np.array(vector))\n",
    "    \n",
    "    return vectors\n",
    "\n",
    "# Genera los vectores personalizados\n",
    "vectors = create_custom_vectors()\n",
    "\n",
    "# Realiza la operación de producto punto en los vectores generados\n",
    "results = []\n",
    "for vector in vectors:\n",
    "    At = vector[:, np.newaxis]\n",
    "    result = np.dot(At, vector[np.newaxis, :])\n",
    "    results.append(result)\n",
    "\n",
    "# Suma los resultados de los productos punto\n",
    "Pesos = np.sum(results, axis=0)\n",
    "\n",
    "# Imprime los vectores generados y los resultados de las operaciones\n",
    "for i, vector in enumerate(vectors):\n",
    "    print(f\"Vector {i+1}: {vector}\")\n",
    "\n",
    "for i, result in enumerate(results):\n",
    "    print(f\"Resultado {i+1}:\\n{result}\")\n",
    "\n",
    "# Imprime la suma de los resultados\n",
    "print(f\"Suma de los resultados (Pesos):\\n{Pesos}\")\n",
    "\n",
    "# Copia la matriz Pesos y establece la diagonal en ceros\n",
    "P_1 = np.copy(Pesos)\n",
    "np.fill_diagonal(P_1, 0)\n",
    "\n",
    "# Imprime la matriz con la diagonal en ceros\n",
    "print(f\"Pesos con la diagonal en ceros (P_1):\\n{P_1}\")\n",
    "\n",
    "\n",
    "\n",
    "# Multiplica la matriz P_1 por cada vector de entrada\n",
    "multiplication_results = []\n",
    "for i, vector in enumerate(vectors):\n",
    "    multiplication_result = np.dot(P_1, vector)\n",
    "    multiplication_results.append(multiplication_result)\n",
    "    print(f\"Multiplicación de P_1 por el vector {i+1}:\\n{multiplication_result}\")\n",
    "\n",
    "\n",
    "\n"
   ]
  }
 ],
 "metadata": {
  "kernelspec": {
   "display_name": "Python 3",
   "language": "python",
   "name": "python3"
  },
  "language_info": {
   "codemirror_mode": {
    "name": "ipython",
    "version": 3
   },
   "file_extension": ".py",
   "mimetype": "text/x-python",
   "name": "python",
   "nbconvert_exporter": "python",
   "pygments_lexer": "ipython3",
   "version": "3.11.1"
  }
 },
 "nbformat": 4,
 "nbformat_minor": 2
}

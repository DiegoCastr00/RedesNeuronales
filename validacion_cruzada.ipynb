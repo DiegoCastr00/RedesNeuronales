{
 "cells": [
  {
   "cell_type": "code",
   "execution_count": 1,
   "metadata": {},
   "outputs": [],
   "source": [
    "import pandas as pd\n",
    "import numpy as np\n",
    "import matplotlib.pyplot as plt\n",
    "from sklearn.model_selection import train_test_split\n",
    "from sklearn.neural_network import MLPClassifier\n",
    "from sklearn.preprocessing import StandardScaler, Normalizer\n",
    "from sklearn.metrics import accuracy_score, ConfusionMatrixDisplay, classification_report"
   ]
  },
  {
   "cell_type": "code",
   "execution_count": 6,
   "metadata": {},
   "outputs": [],
   "source": [
    "# Preparación de los datos\n",
    "from sklearn import preprocessing\n",
    "\n",
    "# Cargar los datos desde el archivo CSV\n",
    "data = pd.read_csv(\"HOG_bb.csv\")\n",
    "\n",
    "# Dividir los datos en características (features) y etiquetas (labels)\n",
    "X = data.drop(\"etiqueta\", axis=1)  # Características\n",
    "y = data[\"etiqueta\"]  # Etiquetas"
   ]
  },
  {
   "cell_type": "code",
   "execution_count": 7,
   "metadata": {},
   "outputs": [],
   "source": [
    "# Escalar las características\n",
    "\n",
    "scaler = StandardScaler()\n",
    "X_scaled = scaler.fit_transform(X)\n"
   ]
  },
  {
   "cell_type": "code",
   "execution_count": 8,
   "metadata": {},
   "outputs": [
    {
     "name": "stdout",
     "output_type": "stream",
     "text": [
      "=> media:  0.7699966699966699\n",
      "Puntuaciones:  [0.79220779 0.75324675 0.71861472 0.7965368  0.75324675 0.76623377\n",
      " 0.80952381 0.75757576 0.75324675 0.80952381 0.73913043 0.75652174\n",
      " 0.80434783]\n"
     ]
    }
   ],
   "source": [
    "from sklearn.model_selection import train_test_split, cross_val_score\n",
    "from sklearn.neural_network import MLPClassifier\n",
    "\n",
    "# Define tus parámetros\n",
    "learning_rate = 0.20\n",
    "momentum_descent = 0.40\n",
    "hidden_layers = (100,)\n",
    "validation = 0.1\n",
    "\n",
    "# # Divide tus datos en un conjunto de entrenamiento y un conjunto de prueba\n",
    "# X_train, X_test, y_train, y_test = train_test_split(X, y, test_size=0.2, random_state=42, stratify=y)\n",
    "\n",
    "# scaler = StandardScaler()\n",
    "# X_train = scaler.fit_transform(X_train)\n",
    "# X_test = scaler.fit_transform(X_test)\n",
    "\n",
    "# Crea el clasificador MLP\n",
    "mlp_classifier = MLPClassifier(\n",
    "                        max_iter = 1000,\n",
    "                        activation = 'relu',\n",
    "                        solver='adam',\n",
    "                        random_state=11,\n",
    "                        tol = 1e-3,\n",
    "                        validation_fraction = validation,\n",
    "                        hidden_layer_sizes = hidden_layers,\n",
    "                        learning_rate_init = learning_rate,\n",
    "                        momentum = momentum_descent,\n",
    "                        )\n",
    "\n",
    "# Realiza la validación cruzada en el conjunto de entrenamiento\n",
    "scores = cross_val_score(mlp_classifier, X_scaled, y, cv=13)\n",
    "\n",
    "print(f\"=> media: \", np.mean(scores))\n",
    "print(\"Puntuaciones: \", scores)\n",
    "\n",
    "\n",
    "# # Entrena el modelo en todo el conjunto de entrenamiento\n",
    "# mlp_classifier.fit(X_train, y_train)\n",
    "\n",
    "# # Obtener la exactitud del modelo en GENERAL\n",
    "# y_pred = mlp_classifier.predict(X_test) # Prediccion\n",
    "# print(accuracy_score(y_test, y_pred)) # Precision exacta\n",
    "# # print(\"Puntuación en el conjunto de prueba: \", score)"
   ]
  },
  {
   "cell_type": "code",
   "execution_count": null,
   "metadata": {},
   "outputs": [],
   "source": [
    "# y_pred = cross_val_predict(mlp_classifier, X_scaled, y, cv=13)\n",
    "\n",
    "# precision = precision_score(y, y_pred, average='weighted') \n",
    "# recall = recall_score(y, y_pred, average='weighted') \n",
    "# f1 = f1_score(y, y_pred, average='weighted')\n",
    "\n",
    "# print(f\"Precision: {precision}\")\n",
    "# print(f\"Recall: {recall}\")\n",
    "# print(f\"F1 Score: {f1}\")\n",
    "\n",
    "# conf_mat = confusion_matrix(y, y_pred)\n",
    "# print(conf_mat)"
   ]
  }
 ],
 "metadata": {
  "kernelspec": {
   "display_name": "Python 3",
   "language": "python",
   "name": "python3"
  },
  "language_info": {
   "codemirror_mode": {
    "name": "ipython",
    "version": 3
   },
   "file_extension": ".py",
   "mimetype": "text/x-python",
   "name": "python",
   "nbconvert_exporter": "python",
   "pygments_lexer": "ipython3",
   "version": "3.10.12"
  }
 },
 "nbformat": 4,
 "nbformat_minor": 2
}

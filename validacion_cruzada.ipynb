{
 "cells": [
  {
   "cell_type": "code",
   "execution_count": 1,
   "metadata": {},
   "outputs": [],
   "source": [
    "import pandas as pd\n",
    "import numpy as np\n",
    "import matplotlib.pyplot as plt\n",
    "from sklearn.model_selection import train_test_split\n",
    "from sklearn.neural_network import MLPClassifier\n",
    "from sklearn.preprocessing import StandardScaler, Normalizer\n",
    "from sklearn.metrics import accuracy_score, ConfusionMatrixDisplay, classification_report"
   ]
  },
  {
   "cell_type": "code",
   "execution_count": 2,
   "metadata": {},
   "outputs": [],
   "source": [
    "# Preparación de los datos\n",
    "from sklearn import preprocessing\n",
    "\n",
    "# Cargar los datos desde el archivo CSV\n",
    "data = pd.read_csv(\"HOG_bb.csv\")\n",
    "\n",
    "# Dividir los datos en características (features) y etiquetas (labels)\n",
    "X = data.drop(\"etiqueta\", axis=1)  # Características\n",
    "y = data[\"etiqueta\"]  # Etiquetas"
   ]
  },
  {
   "cell_type": "code",
   "execution_count": 3,
   "metadata": {},
   "outputs": [],
   "source": [
    "# Escalar las características\n",
    "\n",
    "scaler = StandardScaler()\n",
    "X_scaled = scaler.fit_transform(X)\n"
   ]
  },
  {
   "cell_type": "code",
   "execution_count": 31,
   "metadata": {},
   "outputs": [
    {
     "name": "stdout",
     "output_type": "stream",
     "text": [
      "=> media:  0.716\n",
      "Puntuaciones:  [0.70666667 0.73       0.71666667 0.71666667 0.78333333 0.69333333\n",
      " 0.69333333 0.72666667 0.67333333 0.72      ]\n"
     ]
    }
   ],
   "source": [
    "from sklearn.model_selection import train_test_split, cross_val_score\n",
    "from sklearn.neural_network import MLPClassifier\n",
    "\n",
    "# Define tus parámetros\n",
    "learning_rate = 0.20\n",
    "momentum_descent = 0.40\n",
    "hidden_layers = (15,15)\n",
    "validation = 0.1\n",
    "# Crea el clasificador MLP\n",
    "mlp_classifier = MLPClassifier(\n",
    "                        max_iter = 1000,\n",
    "                        activation = 'tanh',\n",
    "                        solver='adam',\n",
    "                        tol = 1e-5,\n",
    "                        validation_fraction = validation,\n",
    "                        hidden_layer_sizes = hidden_layers,\n",
    "                        learning_rate_init = learning_rate,\n",
    "                        momentum = momentum_descent,\n",
    "                        )\n",
    "\n",
    "# Realiza la validación cruzada en el conjunto de entrenamiento\n",
    "scores = cross_val_score(mlp_classifier, X_scaled, y, cv=10)\n",
    "\n",
    "print(f\"=> media: \", np.mean(scores))\n",
    "print(\"Puntuaciones: \", scores)\n"
   ]
  },
  {
   "cell_type": "code",
   "execution_count": 2,
   "metadata": {},
   "outputs": [
    {
     "name": "stdout",
     "output_type": "stream",
     "text": [
      "784\n"
     ]
    }
   ],
   "source": [
    "import numpy as np\n",
    "hyperparameters = []\n",
    "for learning_rate in np.arange(0.2, 0.9, 0.2):\n",
    "    for momentum_descent in np.arange(0.2, 0.9, 0.2):\n",
    "        for hidden_layers in np.arange(2, 100,3):\n",
    "            hyperparameters.append([learning_rate, momentum_descent, hidden_layers])\n",
    "\n",
    "print(len(hyperparameters))"
   ]
  },
  {
   "cell_type": "code",
   "execution_count": null,
   "metadata": {},
   "outputs": [],
   "source": [
    "# y_pred = cross_val_predict(mlp_classifier, X_scaled, y, cv=13)\n",
    "\n",
    "# precision = precision_score(y, y_pred, average='weighted') \n",
    "# recall = recall_score(y, y_pred, average='weighted') \n",
    "# f1 = f1_score(y, y_pred, average='weighted')\n",
    "\n",
    "# print(f\"Precision: {precision}\")\n",
    "# print(f\"Recall: {recall}\")\n",
    "# print(f\"F1 Score: {f1}\")\n",
    "\n",
    "# conf_mat = confusion_matrix(y, y_pred)\n",
    "# print(conf_mat)"
   ]
  }
 ],
 "metadata": {
  "kernelspec": {
   "display_name": "Python 3",
   "language": "python",
   "name": "python3"
  },
  "language_info": {
   "codemirror_mode": {
    "name": "ipython",
    "version": 3
   },
   "file_extension": ".py",
   "mimetype": "text/x-python",
   "name": "python",
   "nbconvert_exporter": "python",
   "pygments_lexer": "ipython3",
   "version": "3.10.10"
  }
 },
 "nbformat": 4,
 "nbformat_minor": 2
}

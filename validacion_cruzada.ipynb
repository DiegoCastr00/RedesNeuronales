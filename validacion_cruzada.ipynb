{
 "cells": [
  {
   "cell_type": "code",
   "execution_count": 2,
   "metadata": {},
   "outputs": [],
   "source": [
    "import pandas as pd\n",
    "import numpy as np\n",
    "import matplotlib.pyplot as plt\n",
    "from sklearn.model_selection import train_test_split\n",
    "from sklearn.neural_network import MLPClassifier\n",
    "from sklearn.preprocessing import StandardScaler, Normalizer\n",
    "from sklearn.metrics import accuracy_score\n",
    "from sklearn.metrics import ConfusionMatrixDisplay\n",
    "from sklearn.metrics import classification_report"
   ]
  },
  {
   "cell_type": "code",
   "execution_count": 3,
   "metadata": {},
   "outputs": [],
   "source": [
    "# Preparación de los datos\n",
    "from sklearn import preprocessing\n",
    "# Cargar los datos desde el archivo CSV\n",
    "data = pd.read_csv(\"HOG_TODO.csv\")\n",
    "\n",
    "# Dividir los datos en características (features) y etiquetas (labels)\n",
    "X = data.drop(\"etiqueta\", axis=1)  # Características\n",
    "y = data[\"etiqueta\"]  # Etiquetas"
   ]
  },
  {
   "cell_type": "code",
   "execution_count": 4,
   "metadata": {},
   "outputs": [],
   "source": [
    "# Escalar las características\n",
    "# norma = Normalizer()\n",
    "# X_train_scaled = preprocessing.normalize(X_train)\n",
    "# X_test_scaled = preprocessing.normalize(X_test)\n",
    "\n",
    "scaler = StandardScaler()\n",
    "X_scaled = scaler.fit_transform(X)\n"
   ]
  },
  {
   "cell_type": "code",
   "execution_count": 13,
   "metadata": {},
   "outputs": [
    {
     "name": "stdout",
     "output_type": "stream",
     "text": [
      "Fold: 3 -> Accuracy: 0.7255555555555555\n",
      "Fold: 4 -> Accuracy: 0.7233333333333334\n",
      "Fold: 5 -> Accuracy: 0.7311111111111112\n",
      "Fold: 6 -> Accuracy: 0.7233333333333334\n",
      "Fold: 7 -> Accuracy: 0.7277777777777777\n",
      "Fold: 8 -> Accuracy: 0.7433333333333333\n",
      "Fold: 9 -> Accuracy: 0.7477777777777778\n",
      "Fold: 10 -> Accuracy: 0.7444444444444445\n",
      "Fold: 11 -> Accuracy: 0.7277777777777777\n",
      "Fold: 12 -> Accuracy: 0.7177777777777777\n",
      "Fold: 13 -> Accuracy: 0.7522222222222222\n",
      "Fold: 14 -> Accuracy: 0.7355555555555555\n",
      "Fold: 15 -> Accuracy: 0.74\n",
      "Fold: 16 -> Accuracy: 0.7155555555555555\n",
      "Fold: 17 -> Accuracy: 0.7111111111111111\n",
      "Fold: 18 -> Accuracy: 0.7411111111111112\n",
      "Fold: 19 -> Accuracy: 0.7122222222222222\n",
      "Fold: 20 -> Accuracy: 0.7233333333333334\n"
     ]
    }
   ],
   "source": [
    "learning_rate = 0.20 # Tasa de aprendizaje\n",
    "momentum_descent = 0.40  # Momentum\n",
    "hidden_layers = (15)  # Número de capas ocultas y número de neuronas en cada capa\n",
    "validation = 0.1  # Porcentaje de particiones para validación (0.1 = 10%  => 10 folds)\n",
    "\n",
    "from sklearn.model_selection import cross_val_score\n",
    "\n",
    "# Crear el clasificador MLP\n",
    "mlp_classifier = MLPClassifier(\n",
    "                        max_iter = 1000,\n",
    "                        activation = 'relu',\n",
    "                        solver= 'adam',\n",
    "                        random_state=11,\n",
    "                        tol = 1e-3,\n",
    "                        validation_fraction = validation,\n",
    "                        hidden_layer_sizes = hidden_layers,\n",
    "                        learning_rate_init = learning_rate,\n",
    "                        momentum = momentum_descent,\n",
    "                        )\n",
    "\n",
    "from sklearn.model_selection import cross_val_predict\n",
    "from sklearn.metrics import accuracy_score, precision_score, recall_score, f1_score, confusion_matrix\n",
    "for i in range(3, 21): \n",
    "    y_pred = cross_val_predict(mlp_classifier, X_scaled, y, cv=i)\n",
    "    accuracy = accuracy_score(y, y_pred)\n",
    "    print(f\"Fold: {i} -> Accuracy: {accuracy}\")"
   ]
  },
  {
   "cell_type": "code",
   "execution_count": 14,
   "metadata": {},
   "outputs": [
    {
     "name": "stdout",
     "output_type": "stream",
     "text": [
      "Precision: 0.7541367966529191\n",
      "Recall: 0.7522222222222222\n",
      "F1 Score: 0.7524214934352608\n",
      "[[216  31  53]\n",
      " [ 43 224  33]\n",
      " [ 41  22 237]]\n"
     ]
    }
   ],
   "source": [
    "y_pred = cross_val_predict(mlp_classifier, X_scaled, y, cv=13)\n",
    "\n",
    "precision = precision_score(y, y_pred, average='weighted') \n",
    "recall = recall_score(y, y_pred, average='weighted') \n",
    "f1 = f1_score(y, y_pred, average='weighted')\n",
    "\n",
    "print(f\"Precision: {precision}\")\n",
    "print(f\"Recall: {recall}\")\n",
    "print(f\"F1 Score: {f1}\")\n",
    "\n",
    "conf_mat = confusion_matrix(y, y_pred)\n",
    "print(conf_mat)"
   ]
  }
 ],
 "metadata": {
  "kernelspec": {
   "display_name": "Python 3",
   "language": "python",
   "name": "python3"
  },
  "language_info": {
   "codemirror_mode": {
    "name": "ipython",
    "version": 3
   },
   "file_extension": ".py",
   "mimetype": "text/x-python",
   "name": "python",
   "nbconvert_exporter": "python",
   "pygments_lexer": "ipython3",
   "version": "3.10.12"
  }
 },
 "nbformat": 4,
 "nbformat_minor": 2
}

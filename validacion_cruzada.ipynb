{
 "cells": [
  {
   "cell_type": "code",
   "execution_count": 2,
   "metadata": {},
   "outputs": [],
   "source": [
    "import pandas as pd\n",
    "import numpy as np\n",
    "import matplotlib.pyplot as plt\n",
    "from sklearn.model_selection import train_test_split\n",
    "from sklearn.neural_network import MLPClassifier\n",
    "from sklearn.preprocessing import StandardScaler, Normalizer\n",
    "from sklearn.metrics import accuracy_score, ConfusionMatrixDisplay, classification_report"
   ]
  },
  {
   "cell_type": "code",
   "execution_count": 3,
   "metadata": {},
   "outputs": [],
   "source": [
    "# Preparación de los datos\n",
    "from sklearn import preprocessing\n",
    "\n",
    "# Cargar los datos desde el archivo CSV\n",
    "data = pd.read_csv(\"HOG_skimage.csv\")\n",
    "\n",
    "# Dividir los datos en características (features) y etiquetas (labels)\n",
    "X = data.drop(\"etiqueta\", axis=1)  # Características\n",
    "y = data[\"etiqueta\"]  # Etiquetas"
   ]
  },
  {
   "cell_type": "code",
   "execution_count": 5,
   "metadata": {},
   "outputs": [],
   "source": [
    "# Escalar las características\n",
    "\n",
    "scaler = StandardScaler()\n",
    "X_scaled = scaler.fit_transform(X)\n"
   ]
  },
  {
   "cell_type": "code",
   "execution_count": 26,
   "metadata": {},
   "outputs": [
    {
     "name": "stdout",
     "output_type": "stream",
     "text": [
      "=> media prueba:  0.7960170264518089\n",
      "=> media entrenamiento:  0.9751942726073543\n"
     ]
    }
   ],
   "source": [
    "from sklearn.model_selection import train_test_split, cross_val_score\n",
    "from sklearn.neural_network import MLPClassifier\n",
    "\n",
    "# Define tus parámetros\n",
    "learning_rate = 0.20\n",
    "momentum_descent = 0.40\n",
    "hidden_layers = (89,)\n",
    "# Crea el clasificador MLP\n",
    "mlp_classifier = MLPClassifier(\n",
    "                        max_iter = 200,\n",
    "                        activation = 'relu',\n",
    "                        solver='adam',\n",
    "                        tol = 1e-3,  \n",
    "                        hidden_layer_sizes = hidden_layers,\n",
    "                        learning_rate_init = learning_rate,\n",
    "                        momentum = momentum_descent,\n",
    "                        random_state = 10,\n",
    "                        )\n",
    "from sklearn.model_selection import cross_validate  \n",
    "scores = cross_validate(mlp_classifier, X_scaled, y, cv=13, return_train_score=True)\n",
    "# print(\"Puntuaciones de prueba: \", scores['test_score'])\n",
    "print(f\"=> media prueba: \", np.mean(scores['test_score']))\n",
    "# print(\"Puntuaciones de entrenamiento: \", scores['train_score'])\n",
    "print(f\"=> media entrenamiento: \", np.mean(scores['train_score']))\n",
    "# # Realiza la validación cruzada en el conjunto de entrenamiento\n",
    "# scores = cross_val_score(mlp_classifier, X_scaled, y, cv=10)\n",
    "# print(f\"=> media: \", np.mean(scores))\n",
    "# # print(\"Puntuaciones: \", scores)"
   ]
  },
  {
   "cell_type": "code",
   "execution_count": null,
   "metadata": {},
   "outputs": [],
   "source": [
    "import numpy as np\n",
    "hyperparameters = []\n",
    "for learning_rate in np.arange(0.2, 0.5, 0.1):\n",
    "    for momentum_descent in np.arange(0.2, 0.5, 0.1):\n",
    "        for neuronas in np.arange(2, 20):\n",
    "            hyperparameters.append([learning_rate, momentum_descent, neuronas])\n",
    "\n",
    "print(len(hyperparameters))"
   ]
  },
  {
   "cell_type": "code",
   "execution_count": null,
   "metadata": {},
   "outputs": [],
   "source": [
    "# Dividir los datos en conjuntos de entrenamiento y prueba\n",
    "X_train, X_test, y_train, y_test = train_test_split(X, y, test_size=0.2, random_state=42, stratify=y)\n",
    "# Escalar las características\n",
    "scaler = StandardScaler()\n",
    "X_train_scaled = scaler.fit_transform(X_train)\n",
    "X_test_scaled = scaler.transform(X_test)\n",
    "\n",
    "# Entrenar el clasificador\n",
    "mlp_classifier.fit(X_train_scaled, y_train)\n",
    "\n",
    "# Obtener la exactitud del modelo en GENERAL\n",
    "y_pred = mlp_classifier.predict(X_test_scaled) # Prediccion\n",
    "print(accuracy_score(y_test, y_pred)) # Precision exacta"
   ]
  },
  {
   "cell_type": "code",
   "execution_count": null,
   "metadata": {},
   "outputs": [],
   "source": [
    "# Obtener la pérdida de cada iteración\n",
    "loss_curve = mlp_classifier.loss_curve_\n",
    "\n",
    "# Graficar la pérdida de cada iteración\n",
    "plt.plot(loss_curve)\n",
    "plt.title('Pérdida durante el entrenamiento')\n",
    "plt.xlabel('Iteración')\n",
    "plt.ylabel('Pérdida')\n",
    "plt.show()"
   ]
  },
  {
   "cell_type": "code",
   "execution_count": null,
   "metadata": {},
   "outputs": [],
   "source": [
    "fig = ConfusionMatrixDisplay.from_estimator(mlp_classifier, X_test_scaled, y_test, display_labels=mlp_classifier.classes_)\n",
    "fig.figure_.suptitle(\"Matriz de confusion\")\n",
    "plt.show()"
   ]
  }
 ],
 "metadata": {
  "kernelspec": {
   "display_name": "Python 3",
   "language": "python",
   "name": "python3"
  },
  "language_info": {
   "codemirror_mode": {
    "name": "ipython",
    "version": 3
   },
   "file_extension": ".py",
   "mimetype": "text/x-python",
   "name": "python",
   "nbconvert_exporter": "python",
   "pygments_lexer": "ipython3",
   "version": "3.10.12"
  }
 },
 "nbformat": 4,
 "nbformat_minor": 2
}
